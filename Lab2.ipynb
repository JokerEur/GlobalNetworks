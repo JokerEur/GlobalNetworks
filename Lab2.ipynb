{
 "cells": [
  {
   "cell_type": "code",
   "execution_count": 1,
   "metadata": {},
   "outputs": [],
   "source": [
    "def coding(text):\n",
    "  import numpy as np\n",
    "  import zlib\n",
    "  crc32=zlib.crc32(text.encode('utf-8'))\n",
    "  a=[]\n",
    "  for elem in text:\n",
    "    a.append(ord(elem))\n",
    "  x=np.zeros((len(a)//3+min(len(a)%3,1),124))\n",
    "  for index in range(0,len(a),3):\n",
    "    b=np.zeros(20)\n",
    "    for i in range(20):\n",
    "      if 2**(19-i)<=a[index]:\n",
    "        b[i]=1\n",
    "        a[index]-=2**(19-i)\n",
    "    k=0\n",
    "    for i in range(25):\n",
    "     if 2**k==i+1:\n",
    "      k+=1\n",
    "     else:\n",
    "      x[index//3][i]=b[i-k]\n",
    "    b=np.zeros(20)\n",
    "    if index+1<len(a):\n",
    "      for i in range(20):\n",
    "        if 2**(19-i)<=a[index+1]:\n",
    "          b[i]=1\n",
    "          a[index+1]-=2**(19-i)\n",
    "    for i in range(20):\n",
    "      if i<6:\n",
    "       x[index//3][i+25]=b[i]\n",
    "      else:\n",
    "       x[index//3][i+26]=b[i]      \n",
    "    b=np.zeros(20)\n",
    "    if index+2<len(a):\n",
    "      for i in range(20):\n",
    "        if 2**(19-i)<=a[index+2]:\n",
    "          b[i]=1\n",
    "          a[index+2]-=2**(19-i)      \n",
    "    for i in range(20):\n",
    "      if i<17:\n",
    "       x[index//3][i+46]=b[i]\n",
    "      else:\n",
    "       x[index//3][i+47]=b[i]   \n",
    "  p=[]      \n",
    "  for ind in range(x.shape[0]):\n",
    "    y=np.zeros(7)    \n",
    "    for i in range(7):\n",
    "      s=0\n",
    "      for j in range(2**i-1, 124 , 2**(i+1)):\n",
    "        for k in range(2**i):\n",
    "          if j+k<124:\n",
    "            s+=x[ind][j+k]\n",
    "      y[i]=int(s)%2\n",
    "    for i in range(7):        \n",
    "      x[ind][2**i-1]=y[i]\n",
    "    p.append(y)\n",
    "  cons=zlib.crc32(str(p).encode('utf-8'))\n",
    "  return x, p, crc32, cons"
   ]
  },
  {
   "cell_type": "code",
   "execution_count": 2,
   "metadata": {},
   "outputs": [],
   "source": [
    "def encoding(mes, matr, c32, cs):\n",
    "  \n",
    "  import numpy as np\n",
    "  import zlib\n",
    "   \n",
    "  message, mat=mes.copy(), matr.copy()\n",
    "  if cs==zlib.crc32(str(mat).encode('utf-8')):\n",
    "    print('контрольная сумма корректна') \n",
    "  def con_sum(message):\n",
    "    p=[]    \n",
    "    for ind in range(message.shape[0]):\n",
    "      y=np.zeros(7)  \n",
    "      for i in range(7):\n",
    "        s=0\n",
    "        for j in range(2**i-1, 124, 2**(i+1)):\n",
    "          for k in range(2**i):\n",
    "            if j+k<124:\n",
    "              s+=message[ind][j+k]\n",
    "        y[i]=int(s)%2\n",
    "      p.append(y)\n",
    "    return(p)\n",
    "  def go_back(x):\n",
    "    k=0\n",
    "    w1=[]\n",
    "    w2=[]\n",
    "    w3=[]\n",
    "    for i in range(25):\n",
    "      if 2**k==i+1:\n",
    "        k+=1\n",
    "      else:\n",
    "        w1.append(x[i])\n",
    "    for i in range(25,46):\n",
    "      if 2**k==i+1:\n",
    "        k+=1\n",
    "      else:\n",
    "        w2.append(x[i])\n",
    "    for i in range(46,124):\n",
    "      if 2**k==i+1:\n",
    "        k+=1\n",
    "      else:\n",
    "        w3.append(x[i])    \n",
    "    l1=0    \n",
    "    for i in range(len(w1)):\n",
    "      l1+=2**(19-i)*w1[i]\n",
    "    l=chr(int(l1))\n",
    "    l2=0    \n",
    "    for i in range(len(w2)):\n",
    "      l2+=2**(19-i)*w2[i]\n",
    "    l3=0    \n",
    "    for i in range(len(w3)):\n",
    "      l3+=2**(19-i)*w3[i]    \n",
    "    if l2!=0:  \n",
    "      l+=chr(int(l2))\n",
    "    if l3!=0:\n",
    "      l+=chr(int(l3))\n",
    "    return l\n",
    "  def eq(m1,m2):\n",
    "    flag=True\n",
    "    for i in range(len(m1)):\n",
    "      for j in range (len(m1[0])):\n",
    "        if m1[i][j]!=m2[i][j]:\n",
    "          flag=False\n",
    "    return flag\n",
    "  for ind in range(message.shape[0]):\n",
    "    for i in range(7):\n",
    "      message[ind][2**i-1]=0\n",
    "  p=con_sum(message)\n",
    "  if (eq(p,mat)):\n",
    "    text=''\n",
    "    for ind in range(message.shape[0]):\n",
    "      text+=go_back(message[ind])\n",
    "  else: \n",
    "    for ind in range(len(p)):\n",
    "        err=0  \n",
    "        for i in range(len(p[ind])):\n",
    "          if p[ind][i]!=mat[ind][i] and err+2**i<=124:\n",
    "            err+=2**i\n",
    "        if err>0:\n",
    "          message[ind][err-1]=1-message[ind][err-1]\n",
    "    p=con_sum(message)\n",
    "    text=''\n",
    "    for ind in range(message.shape[0]):\n",
    "      text+=go_back(message[ind])\n",
    "  if c32==zlib.crc32(text.encode('utf-8')):\n",
    "    print('сообщение доставлено верно')\n",
    "  else:\n",
    "    print('в доставленном сообщении имеются ошибки')\n",
    "  return text"
   ]
  },
  {
   "cell_type": "code",
   "execution_count": 3,
   "metadata": {},
   "outputs": [],
   "source": [
    "t=\"\"\"Язык возник в начале 1980-х годов, когда сотрудник фирмы Bell Labs Бьёрн Страуструп придумал ряд усовершенствований к языку C под собственные нужды[7]. Когда в конце 1970-х годов Страуструп начал работать в Bell Labs над задачами теории очередей (в приложении к моделированию телефонных вызовов), он обнаружил, что попытки применения существующих в то время языков моделирования оказываются неэффективными, а применение высокоэффективных машинных языков слишком сложно из-за их ограниченной выразительности. Так, язык Симула имеет такие возможности, которые были бы очень полезны для разработки большого программного обеспечения, но работает слишком медленно, а язык BCPL достаточно быстр, но слишком близок к языкам низкого уровня и не подходит для разработки большого программного обеспечения.\n",
    "\n",
    "Вспомнив опыт своей диссертации, Страуструп решил дополнить язык C (преемник BCPL) возможностями, имеющимися в языке Симула. Язык C, будучи базовым языком системы UNIX, на которой работали компьютеры Bell, является быстрым, многофункциональным и переносимым. Страуструп добавил к нему возможность работы с классами и объектами. В результате практические задачи моделирования оказались доступными для решения как с точки зрения времени разработки (благодаря использованию Симула-подобных классов), так и с точки зрения времени вычислений (благодаря быстродействию C). В первую очередь в C были добавлены классы (с инкапсуляцией), наследование классов, строгая проверка типов, inline-функции и аргументы по умолчанию. Ранние версии языка, первоначально именовавшегося «C with classes» («Си с классами»), стали доступны с 1980 года.\n",
    "\n",
    "Разрабатывая C с классами, Страуструп написал программу cfront — транслятор, перерабатывающий исходный код C с классами в исходный код простого C. Это позволило работать над новым языком и использовать его на практике, применяя уже имеющуюся в UNIX инфраструктуру для разработки на C. Новый язык, неожиданно для автора, приобрёл большую популярность среди коллег и вскоре Страуструп уже не мог лично поддерживать его, отвечая на тысячи вопросов.\n",
    "\n",
    "К 1983 году в язык были добавлены новые возможности, такие как виртуальные функции, перегрузка функций и операторов, ссылки, константы, пользовательский контроль над управлением свободной памятью, улучшенная проверка типов и новый стиль комментариев (//). Получившийся язык уже перестал быть просто дополненной версией классического C и был переименован из C с классами в «C++». Его первый коммерческий выпуск состоялся в октябре 1985 года.\n",
    "\"\"\""
   ]
  },
  {
   "attachments": {},
   "cell_type": "markdown",
   "metadata": {},
   "source": [
    "БЕЗ ОШИБОК"
   ]
  },
  {
   "cell_type": "code",
   "execution_count": 4,
   "metadata": {},
   "outputs": [],
   "source": [
    "mes, matr, c32, cs=coding(t) "
   ]
  },
  {
   "cell_type": "code",
   "execution_count": 5,
   "metadata": {},
   "outputs": [
    {
     "name": "stdout",
     "output_type": "stream",
     "text": [
      "контрольная сумма корректна\n",
      "сообщение доставлено верно\n"
     ]
    }
   ],
   "source": [
    "te=encoding(mes, matr, c32, cs)"
   ]
  },
  {
   "cell_type": "code",
   "execution_count": 6,
   "metadata": {},
   "outputs": [
    {
     "name": "stdout",
     "output_type": "stream",
     "text": [
      "True\n"
     ]
    }
   ],
   "source": [
    "print(t==te)"
   ]
  },
  {
   "cell_type": "code",
   "execution_count": 7,
   "metadata": {},
   "outputs": [],
   "source": [
    "def eq(m1,m2):\n",
    "    flag=True\n",
    "    for i in range(len(m1)):\n",
    "      for j in range (len(m1[0])):\n",
    "        if m1[i][j]!=m2[i][j]:\n",
    "          flag=False\n",
    "    return flag "
   ]
  },
  {
   "attachments": {},
   "cell_type": "markdown",
   "metadata": {},
   "source": [
    "Не более одной ошибки\n"
   ]
  },
  {
   "cell_type": "code",
   "execution_count": 8,
   "metadata": {},
   "outputs": [],
   "source": [
    "m1, mat1, c1, cs1=coding(t)\n",
    "m2, mat2, c2, cs2=coding(t)"
   ]
  },
  {
   "cell_type": "code",
   "execution_count": 9,
   "metadata": {},
   "outputs": [],
   "source": [
    "import random"
   ]
  },
  {
   "cell_type": "code",
   "execution_count": 10,
   "metadata": {},
   "outputs": [],
   "source": [
    "#внесение ошибок\n",
    "for i in range(m1.shape[0]):\n",
    "  j=random.randint(0,123)\n",
    "  m1[i][j]=1-m1[i][j]"
   ]
  },
  {
   "cell_type": "code",
   "execution_count": 11,
   "metadata": {},
   "outputs": [
    {
     "data": {
      "text/plain": [
       "False"
      ]
     },
     "execution_count": 11,
     "metadata": {},
     "output_type": "execute_result"
    }
   ],
   "source": [
    "eq(m1,m2)"
   ]
  },
  {
   "cell_type": "code",
   "execution_count": 12,
   "metadata": {},
   "outputs": [
    {
     "name": "stdout",
     "output_type": "stream",
     "text": [
      "контрольная сумма корректна\n",
      "сообщение доставлено верно\n",
      "контрольная сумма корректна\n",
      "сообщение доставлено верно\n"
     ]
    },
    {
     "data": {
      "text/plain": [
       "True"
      ]
     },
     "execution_count": 12,
     "metadata": {},
     "output_type": "execute_result"
    }
   ],
   "source": [
    "encoding(m1,mat1,c1,cs1)==encoding(m2,mat2,c2,cs2)"
   ]
  },
  {
   "cell_type": "code",
   "execution_count": 13,
   "metadata": {},
   "outputs": [
    {
     "name": "stdout",
     "output_type": "stream",
     "text": [
      "контрольная сумма корректна\n",
      "сообщение доставлено верно\n"
     ]
    },
    {
     "data": {
      "text/plain": [
       "True"
      ]
     },
     "execution_count": 13,
     "metadata": {},
     "output_type": "execute_result"
    }
   ],
   "source": [
    "t==encoding(m1,mat1,c1,cs1)"
   ]
  },
  {
   "attachments": {},
   "cell_type": "markdown",
   "metadata": {},
   "source": [
    "Более одной ошибки "
   ]
  },
  {
   "cell_type": "code",
   "execution_count": 14,
   "metadata": {},
   "outputs": [],
   "source": [
    "m3, mat3, c3, cs3=coding(t)"
   ]
  },
  {
   "cell_type": "code",
   "execution_count": 15,
   "metadata": {},
   "outputs": [
    {
     "name": "stdout",
     "output_type": "stream",
     "text": [
      "0.36670639650377435\n",
      "923\n"
     ]
    }
   ],
   "source": [
    "n=0\n",
    "import random\n",
    "for i in range(m3.shape[0]):\n",
    "  j=random.randint(10,56)\n",
    "  n+=1\n",
    "  m3[i][j]=1-m3[i][j]\n",
    "  r=random.choice([True, False])\n",
    "  k=random.choice(list(range(-10,10)))\n",
    "  if r:\n",
    "    m3[i][j+k]=1-m3[i][j+k]\n",
    "    if (j<25 and j+k>=25) or (j>=25 and j<46 and (j+k<25 or j+k>=46)) or (j>=46 and j+k<46):\n",
    "      n+=1\n",
    "#ошибки допущены в (символах):      \n",
    "print(n/(m3.shape[0]*3))\n",
    "print(n)"
   ]
  },
  {
   "cell_type": "code",
   "execution_count": 16,
   "metadata": {},
   "outputs": [
    {
     "name": "stdout",
     "output_type": "stream",
     "text": [
      "контрольная сумма корректна\n",
      "в доставленном сообщении имеются ошибки\n"
     ]
    }
   ],
   "source": [
    "dec=encoding(m3,mat3,c3,cs3)"
   ]
  },
  {
   "cell_type": "code",
   "execution_count": 17,
   "metadata": {},
   "outputs": [
    {
     "data": {
      "text/plain": [
       "False"
      ]
     },
     "execution_count": 17,
     "metadata": {},
     "output_type": "execute_result"
    }
   ],
   "source": [
    "dec==t"
   ]
  },
  {
   "cell_type": "code",
   "execution_count": 18,
   "metadata": {},
   "outputs": [
    {
     "name": "stdout",
     "output_type": "stream",
     "text": [
      "0.8786311181854357\n",
      "2208\n"
     ]
    }
   ],
   "source": [
    "err=0\n",
    "for i in range(len(dec)):\n",
    "  if dec[i]!=t[i]:\n",
    "    err+=1\n",
    "print(err/len(dec))\n",
    "print(err)"
   ]
  },
  {
   "cell_type": "code",
   "execution_count": 19,
   "metadata": {},
   "outputs": [
    {
     "name": "stdout",
     "output_type": "stream",
     "text": [
      "-1285\n"
     ]
    }
   ],
   "source": [
    "#исправлено ошибок \n",
    "print(n-err)"
   ]
  },
  {
   "cell_type": "code",
   "execution_count": 20,
   "metadata": {},
   "outputs": [],
   "source": [
    "tr=0\n",
    "f=0\n",
    "for i in range(0,len(t)-2,3):\n",
    "  if dec[i]==t[i] and dec[i+1]==t[i+1] and dec[i+2]==t[i+2]:\n",
    "    tr+=1\n",
    "  else:\n",
    "    f+=1"
   ]
  },
  {
   "cell_type": "code",
   "execution_count": 21,
   "metadata": {},
   "outputs": [
    {
     "name": "stdout",
     "output_type": "stream",
     "text": [
      "60 778\n"
     ]
    }
   ],
   "source": [
    "print(tr,f)"
   ]
  },
  {
   "cell_type": "code",
   "execution_count": null,
   "metadata": {},
   "outputs": [],
   "source": []
  }
 ],
 "metadata": {
  "kernelspec": {
   "display_name": "Python 3",
   "language": "python",
   "name": "python3"
  },
  "language_info": {
   "codemirror_mode": {
    "name": "ipython",
    "version": 3
   },
   "file_extension": ".py",
   "mimetype": "text/x-python",
   "name": "python",
   "nbconvert_exporter": "python",
   "pygments_lexer": "ipython3",
   "version": "3.10.10"
  },
  "orig_nbformat": 4
 },
 "nbformat": 4,
 "nbformat_minor": 2
}
